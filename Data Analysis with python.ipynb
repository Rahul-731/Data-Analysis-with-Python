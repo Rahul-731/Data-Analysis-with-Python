{
 "cells": [
  {
   "cell_type": "code",
   "execution_count": 2,
   "id": "e821c1fa",
   "metadata": {},
   "outputs": [
    {
     "name": "stdout",
     "output_type": "stream",
     "text": [
      "Updated Dictionary {'name': 'rahul', 'city': 'Luckhnow', 'gender': 'Male'}\n"
     ]
    }
   ],
   "source": [
    "# Creating a dictionary\n",
    "my_dict = {'name': 'rahul', 'age':25, 'city':'mumbai'}\n",
    "\n",
    "#adding\n",
    "my_dict['gender'] = 'Male'\n",
    "\n",
    "#removing\n",
    "del my_dict['age']\n",
    "\n",
    "#modifying\n",
    "my_dict ['city'] = 'Luckhnow'\n",
    "\n",
    "print(\"Updated Dictionary\" , my_dict)"
   ]
  },
  {
   "cell_type": "code",
   "execution_count": 3,
   "id": "194498e6",
   "metadata": {},
   "outputs": [
    {
     "name": "stdout",
     "output_type": "stream",
     "text": [
      "Updated List: [10, 2, 4, 5, 6]\n"
     ]
    }
   ],
   "source": [
    "# Creating a List\n",
    "my_list = [1,2,3,4,5]\n",
    "\n",
    "#adding an element in the List\n",
    "my_list.append(6)\n",
    "\n",
    "#removing an elemnet from the list\n",
    "my_list.remove(3)\n",
    "\n",
    "#modifying an element in the List\n",
    "my_list[0] = 10\n",
    "\n",
    "print('Updated List:', my_list)"
   ]
  },
  {
   "cell_type": "code",
   "execution_count": 4,
   "id": "3205dde6",
   "metadata": {},
   "outputs": [
    {
     "name": "stdout",
     "output_type": "stream",
     "text": [
      "Updated Set {2, 4, 5, 6, 10}\n"
     ]
    }
   ],
   "source": [
    "# Creating a set\n",
    "my_set = {1,2,3,4,5}\n",
    "\n",
    "#adding an element in the set\n",
    "my_set.add (6)\n",
    "\n",
    "#removing an element from the set\n",
    "my_set.remove (3)\n",
    "\n",
    "#modifying an element in the set\n",
    "my_set.discard(1)\n",
    "my_set.add(10)\n",
    "\n",
    "print('Updated Set', my_set)\n",
    "\n"
   ]
  },
  {
   "cell_type": "code",
   "execution_count": null,
   "id": "89ca636a",
   "metadata": {},
   "outputs": [],
   "source": []
  }
 ],
 "metadata": {
  "kernelspec": {
   "display_name": "Python 3 (ipykernel)",
   "language": "python",
   "name": "python3"
  },
  "language_info": {
   "codemirror_mode": {
    "name": "ipython",
    "version": 3
   },
   "file_extension": ".py",
   "mimetype": "text/x-python",
   "name": "python",
   "nbconvert_exporter": "python",
   "pygments_lexer": "ipython3",
   "version": "3.11.3"
  }
 },
 "nbformat": 4,
 "nbformat_minor": 5
}
